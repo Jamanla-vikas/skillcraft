{
 "cells": [
  {
   "cell_type": "code",
   "execution_count": 1,
   "id": "8c8631c0-7f75-4f40-9834-d60e5bddceca",
   "metadata": {},
   "outputs": [
    {
     "name": "stdout",
     "output_type": "stream",
     "text": [
      "212.0\n",
      "-273.15\n",
      "273.15\n"
     ]
    }
   ],
   "source": [
    "def convert_temperature(value, from_unit, to_unit):\n",
    "    from_unit = from_unit.lower()\n",
    "    to_unit = to_unit.lower()\n",
    "\n",
    "    # Convert input to Celsius\n",
    "    if from_unit == 'celsius':\n",
    "        c = value\n",
    "    elif from_unit == 'fahrenheit':\n",
    "        c = (value - 32) * 5/9\n",
    "    elif from_unit == 'kelvin':\n",
    "        c = value - 273.15\n",
    "    else:\n",
    "        return \"Invalid from_unit\"\n",
    "\n",
    "    # Convert Celsius to target\n",
    "    if to_unit == 'celsius':\n",
    "        return c\n",
    "    elif to_unit == 'fahrenheit':\n",
    "        return c * 9/5 + 32\n",
    "    elif to_unit == 'kelvin':\n",
    "        return c + 273.15\n",
    "    else:\n",
    "        return \"Invalid to_unit\"\n",
    "\n",
    "# Example usage\n",
    "print(convert_temperature(100, 'Celsius', 'Fahrenheit'))  # 212.0\n",
    "print(convert_temperature(0, 'Kelvin', 'Celsius'))       # -273.15\n",
    "print(convert_temperature(32, 'Fahrenheit', 'Kelvin'))   # 273.15\n",
    "\n"
   ]
  },
  {
   "cell_type": "code",
   "execution_count": null,
   "id": "99fe9338-7059-4ff0-b2f8-d91ac0eba965",
   "metadata": {},
   "outputs": [],
   "source": []
  }
 ],
 "metadata": {
  "kernelspec": {
   "display_name": "Python 3 (ipykernel)",
   "language": "python",
   "name": "python3"
  },
  "language_info": {
   "codemirror_mode": {
    "name": "ipython",
    "version": 3
   },
   "file_extension": ".py",
   "mimetype": "text/x-python",
   "name": "python",
   "nbconvert_exporter": "python",
   "pygments_lexer": "ipython3",
   "version": "3.12.7"
  }
 },
 "nbformat": 4,
 "nbformat_minor": 5
}
