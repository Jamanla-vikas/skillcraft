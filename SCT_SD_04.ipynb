{
 "cells": [
  {
   "cell_type": "code",
   "execution_count": 3,
   "id": "0e7db23e-b89b-4d1e-ad2f-ebbc9a7ef0d7",
   "metadata": {},
   "outputs": [
    {
     "name": "stdout",
     "output_type": "stream",
     "text": [
      "Data saved to books_data.csv\n"
     ]
    }
   ],
   "source": [
    "import requests\n",
    "from bs4 import BeautifulSoup\n",
    "import pandas as pd\n",
    "\n",
    "# Base URL\n",
    "url = \"http://books.toscrape.com/catalogue/page-{}.html\"\n",
    "\n",
    "# Lists to hold data\n",
    "book_titles = []\n",
    "book_prices = []\n",
    "book_ratings = []\n",
    "\n",
    "# Loop through first 5 pages (can increase)\n",
    "for page in range(1, 6):\n",
    "    response = requests.get(url.format(page))\n",
    "    soup = BeautifulSoup(response.text, 'html.parser')\n",
    "\n",
    "    books = soup.find_all('article', class_='product_pod')\n",
    "\n",
    "    for book in books:\n",
    "        # Title\n",
    "        title = book.h3.a['title']\n",
    "        book_titles.append(title)\n",
    "\n",
    "        # Price\n",
    "        price = book.find('p', class_='price_color').text[1:]  # Remove '£'\n",
    "        book_prices.append(price)\n",
    "\n",
    "        # Rating (e.g., \"star-rating Three\")\n",
    "        rating = book.p['class'][1]\n",
    "        book_ratings.append(rating)\n",
    "\n",
    "# Create DataFrame\n",
    "df = pd.DataFrame({\n",
    "    'Title': book_titles,\n",
    "    'Price (£)': book_prices,\n",
    "    'Rating': book_ratings\n",
    "})\n",
    "\n",
    "# Save to CSV\n",
    "df.to_csv('books_data.csv', index=False)\n",
    "print(\"Data saved to books_data.csv\")"
   ]
  },
  {
   "cell_type": "code",
   "execution_count": null,
   "id": "ad40bd49-3f5d-4489-aa35-fb8b6943ed22",
   "metadata": {},
   "outputs": [],
   "source": []
  }
 ],
 "metadata": {
  "kernelspec": {
   "display_name": "Python 3 (ipykernel)",
   "language": "python",
   "name": "python3"
  },
  "language_info": {
   "codemirror_mode": {
    "name": "ipython",
    "version": 3
   },
   "file_extension": ".py",
   "mimetype": "text/x-python",
   "name": "python",
   "nbconvert_exporter": "python",
   "pygments_lexer": "ipython3",
   "version": "3.12.7"
  }
 },
 "nbformat": 4,
 "nbformat_minor": 5
}
